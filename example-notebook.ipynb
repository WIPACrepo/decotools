{
 "cells": [
  {
   "cell_type": "code",
   "execution_count": 15,
   "metadata": {},
   "outputs": [],
   "source": [
    "import decotools as dt\n",
    "import matplotlib.pyplot as plt\n",
    "import numpy as np\n",
    "import pandas as pd\n",
    "from skimage import io\n",
    "\n",
    "%matplotlib inline"
   ]
  },
  {
   "cell_type": "markdown",
   "metadata": {},
   "source": [
    "### Get image file and extract blobs\n",
    "\n",
    "Get a list of iOS image files"
   ]
  },
  {
   "cell_type": "code",
   "execution_count": 14,
   "metadata": {},
   "outputs": [
    {
     "name": "stdout",
     "output_type": "stream",
     "text": [
      "Found 1075 iOS image files\n"
     ]
    }
   ],
   "source": [
    "files = dt.get_iOS_files(start_date='2017.04.01', end_date='2017.05.05', verbose=1, phone_model='iPhone 7')"
   ]
  },
  {
   "cell_type": "markdown",
   "metadata": {},
   "source": [
    "Pick out one of the files for blob extraction "
   ]
  },
  {
   "cell_type": "code",
   "execution_count": 52,
   "metadata": {
    "collapsed": true
   },
   "outputs": [],
   "source": [
    "image_file = files[5]\n",
    "# image_file = '/net/deco/iOSdata/2016.10.25/i3CB0CE68-95B9-4585-AC48-05AFD0BF3C0A_20161025_033757.90868.png'\n",
    "# image_file = '/net/deco/iOSdata/2017.05.01/iF216114B-8710-4790-A05D-D645C9C79C27_20170501_065149.47923.png'\n",
    "# image_file = '/net/deco/iOSdata/2017.05.01/iF216114B-8710-4790-A05D-D645C9C79C27_20170501_051050.52887.png'"
   ]
  },
  {
   "cell_type": "markdown",
   "metadata": {},
   "source": [
    "Use `extract_blobs` to extract useful information about the blobs in `image_file`"
   ]
  },
  {
   "cell_type": "code",
   "execution_count": 58,
   "metadata": {
    "collapsed": true
   },
   "outputs": [],
   "source": [
    "df = dt.extract_blobs(image_file)"
   ]
  },
  {
   "cell_type": "code",
   "execution_count": 59,
   "metadata": {},
   "outputs": [
    {
     "data": {
      "text/html": [
       "<div>\n",
       "<style>\n",
       "    .dataframe thead tr:only-child th {\n",
       "        text-align: right;\n",
       "    }\n",
       "\n",
       "    .dataframe thead th {\n",
       "        text-align: left;\n",
       "    }\n",
       "\n",
       "    .dataframe tbody tr th {\n",
       "        vertical-align: top;\n",
       "    }\n",
       "</style>\n",
       "<table border=\"1\" class=\"dataframe\">\n",
       "  <thead>\n",
       "    <tr style=\"text-align: right;\">\n",
       "      <th></th>\n",
       "      <th>area</th>\n",
       "      <th>bbox</th>\n",
       "      <th>bbox_area</th>\n",
       "      <th>centroid</th>\n",
       "      <th>convex_area</th>\n",
       "      <th>convex_image</th>\n",
       "      <th>coords</th>\n",
       "      <th>eccentricity</th>\n",
       "      <th>equivalent_diameter</th>\n",
       "      <th>euler_number</th>\n",
       "      <th>...</th>\n",
       "      <th>moments_normalized</th>\n",
       "      <th>n_blobs</th>\n",
       "      <th>orientation</th>\n",
       "      <th>perimeter</th>\n",
       "      <th>solidity</th>\n",
       "      <th>weighted_centroid</th>\n",
       "      <th>weighted_moments</th>\n",
       "      <th>weighted_moments_central</th>\n",
       "      <th>weighted_moments_hu</th>\n",
       "      <th>weighted_moments_normalized</th>\n",
       "    </tr>\n",
       "  </thead>\n",
       "  <tbody>\n",
       "    <tr>\n",
       "      <th>0</th>\n",
       "      <td>14</td>\n",
       "      <td>(1, 2, 6, 8)</td>\n",
       "      <td>64</td>\n",
       "      <td>(3.21428571429, 4.78571428571)</td>\n",
       "      <td>18</td>\n",
       "      <td>[[False, False, False, True, True, False], [Fa...</td>\n",
       "      <td>[[1, 5], [1, 6], [2, 5], [2, 6], [3, 5], [3, 6...</td>\n",
       "      <td>0.844638</td>\n",
       "      <td>4.222008</td>\n",
       "      <td>1</td>\n",
       "      <td>...</td>\n",
       "      <td>[[nan, nan, 0.114067055394, -0.0156950583547],...</td>\n",
       "      <td>1</td>\n",
       "      <td>0.711084</td>\n",
       "      <td>11.828427</td>\n",
       "      <td>0.777778</td>\n",
       "      <td>(3.28366762178, 4.80515759312)</td>\n",
       "      <td>[[349.0, 797.0, 2329.0, 7343.0], [979.0, 1929....</td>\n",
       "      <td>[[349.0, -4.26325641456e-14, 508.916905444, -3...</td>\n",
       "      <td>[0.00932395975219, 2.62998086419e-05, 2.236446...</td>\n",
       "      <td>[[nan, nan, 0.00417826541198, -0.0001318678002...</td>\n",
       "    </tr>\n",
       "    <tr>\n",
       "      <th>1</th>\n",
       "      <td>14</td>\n",
       "      <td>(1, 2, 6, 8)</td>\n",
       "      <td>56</td>\n",
       "      <td>(2.92857142857, 4.07142857143)</td>\n",
       "      <td>16</td>\n",
       "      <td>[[False, False, False, True, True, True], [Fal...</td>\n",
       "      <td>[[1, 6], [1, 7], [2, 3], [2, 4], [2, 5], [2, 6...</td>\n",
       "      <td>0.939928</td>\n",
       "      <td>4.222008</td>\n",
       "      <td>1</td>\n",
       "      <td>...</td>\n",
       "      <td>[[nan, nan, 0.116982507289, 0.00534299858884],...</td>\n",
       "      <td>1</td>\n",
       "      <td>0.690974</td>\n",
       "      <td>12.449747</td>\n",
       "      <td>0.875000</td>\n",
       "      <td>(2.95114942529, 4.04022988506)</td>\n",
       "      <td>[[348.0, 679.0, 1875.0, 5887.0], [710.0, 869.0...</td>\n",
       "      <td>[[348.0, 7.1054273576e-14, 550.16954023, 81.66...</td>\n",
       "      <td>[0.0108634423457, 7.58663334474e-05, 1.7997317...</td>\n",
       "      <td>[[nan, nan, 0.00454295101921, 3.61500082009e-0...</td>\n",
       "    </tr>\n",
       "    <tr>\n",
       "      <th>2</th>\n",
       "      <td>13</td>\n",
       "      <td>(1, 2, 5, 6)</td>\n",
       "      <td>36</td>\n",
       "      <td>(2.76923076923, 3.38461538462)</td>\n",
       "      <td>14</td>\n",
       "      <td>[[False, True, True, False], [True, True, True...</td>\n",
       "      <td>[[1, 3], [1, 4], [2, 2], [2, 3], [2, 4], [3, 2...</td>\n",
       "      <td>0.417563</td>\n",
       "      <td>4.068429</td>\n",
       "      <td>1</td>\n",
       "      <td>...</td>\n",
       "      <td>[[nan, nan, 0.0846609012289, -0.00809880542789...</td>\n",
       "      <td>1</td>\n",
       "      <td>-1.030377</td>\n",
       "      <td>10.828427</td>\n",
       "      <td>0.928571</td>\n",
       "      <td>(2.696875, 3.378125)</td>\n",
       "      <td>[[320.0, 543.0, 1265.0, 3225.0], [441.0, 770.0...</td>\n",
       "      <td>[[320.0, 3.90798504668e-14, 343.596875, -87.62...</td>\n",
       "      <td>[0.00625823974609, 3.84148303419e-07, 5.533269...</td>\n",
       "      <td>[[nan, nan, 0.00335543823242, -4.78378626603e-...</td>\n",
       "    </tr>\n",
       "    <tr>\n",
       "      <th>3</th>\n",
       "      <td>17</td>\n",
       "      <td>(0, 0, 6, 7)</td>\n",
       "      <td>49</td>\n",
       "      <td>(2.29411764706, 3.05882352941)</td>\n",
       "      <td>28</td>\n",
       "      <td>[[True, True, True, True, False, False, False]...</td>\n",
       "      <td>[[0, 0], [0, 1], [1, 0], [1, 3], [1, 4], [1, 5...</td>\n",
       "      <td>0.583444</td>\n",
       "      <td>4.652426</td>\n",
       "      <td>1</td>\n",
       "      <td>...</td>\n",
       "      <td>[[nan, nan, 0.136779971504, 0.0148446751737], ...</td>\n",
       "      <td>1</td>\n",
       "      <td>-0.392699</td>\n",
       "      <td>16.621320</td>\n",
       "      <td>0.607143</td>\n",
       "      <td>(2.33756345178, 3.10152284264)</td>\n",
       "      <td>[[394.0, 921.0, 3101.0, 12075.0], [1222.0, 302...</td>\n",
       "      <td>[[394.0, 1.42108547152e-14, 948.104060914, 393...</td>\n",
       "      <td>[0.0141335975367, 8.17252881924e-06, 2.0766055...</td>\n",
       "      <td>[[nan, nan, 0.00610750122983, 0.00012777171224...</td>\n",
       "    </tr>\n",
       "    <tr>\n",
       "      <th>4</th>\n",
       "      <td>14</td>\n",
       "      <td>(1, 4, 9, 7)</td>\n",
       "      <td>90</td>\n",
       "      <td>(4.07142857143, 5.21428571429)</td>\n",
       "      <td>16</td>\n",
       "      <td>[[False, False, True], [False, True, True], [T...</td>\n",
       "      <td>[[1, 6], [2, 5], [2, 6], [3, 4], [3, 5], [3, 6...</td>\n",
       "      <td>0.940123</td>\n",
       "      <td>4.222008</td>\n",
       "      <td>1</td>\n",
       "      <td>...</td>\n",
       "      <td>[[nan, nan, 0.259839650146, 0.0601087341244], ...</td>\n",
       "      <td>1</td>\n",
       "      <td>1.477349</td>\n",
       "      <td>12.035534</td>\n",
       "      <td>0.875000</td>\n",
       "      <td>(3.92896174863, 5.20218579235)</td>\n",
       "      <td>[[366.0, 1072.0, 4362.0, 21238.0], [440.0, 119...</td>\n",
       "      <td>[[366.0, -1.13686837722e-13, 1222.15300546, 13...</td>\n",
       "      <td>[0.0104152949986, 6.35103259126e-05, 4.2283447...</td>\n",
       "      <td>[[nan, nan, 0.00912354060635, 0.00050828236397...</td>\n",
       "    </tr>\n",
       "  </tbody>\n",
       "</table>\n",
       "<p>5 rows × 33 columns</p>\n",
       "</div>"
      ],
      "text/plain": [
       "   area          bbox  bbox_area                        centroid  convex_area  \\\n",
       "0    14  (1, 2, 6, 8)         64  (3.21428571429, 4.78571428571)           18   \n",
       "1    14  (1, 2, 6, 8)         56  (2.92857142857, 4.07142857143)           16   \n",
       "2    13  (1, 2, 5, 6)         36  (2.76923076923, 3.38461538462)           14   \n",
       "3    17  (0, 0, 6, 7)         49  (2.29411764706, 3.05882352941)           28   \n",
       "4    14  (1, 4, 9, 7)         90  (4.07142857143, 5.21428571429)           16   \n",
       "\n",
       "                                        convex_image  \\\n",
       "0  [[False, False, False, True, True, False], [Fa...   \n",
       "1  [[False, False, False, True, True, True], [Fal...   \n",
       "2  [[False, True, True, False], [True, True, True...   \n",
       "3  [[True, True, True, True, False, False, False]...   \n",
       "4  [[False, False, True], [False, True, True], [T...   \n",
       "\n",
       "                                              coords  eccentricity  \\\n",
       "0  [[1, 5], [1, 6], [2, 5], [2, 6], [3, 5], [3, 6...      0.844638   \n",
       "1  [[1, 6], [1, 7], [2, 3], [2, 4], [2, 5], [2, 6...      0.939928   \n",
       "2  [[1, 3], [1, 4], [2, 2], [2, 3], [2, 4], [3, 2...      0.417563   \n",
       "3  [[0, 0], [0, 1], [1, 0], [1, 3], [1, 4], [1, 5...      0.583444   \n",
       "4  [[1, 6], [2, 5], [2, 6], [3, 4], [3, 5], [3, 6...      0.940123   \n",
       "\n",
       "   equivalent_diameter  euler_number  \\\n",
       "0             4.222008             1   \n",
       "1             4.222008             1   \n",
       "2             4.068429             1   \n",
       "3             4.652426             1   \n",
       "4             4.222008             1   \n",
       "\n",
       "                         ...                          \\\n",
       "0                        ...                           \n",
       "1                        ...                           \n",
       "2                        ...                           \n",
       "3                        ...                           \n",
       "4                        ...                           \n",
       "\n",
       "                                  moments_normalized  n_blobs orientation  \\\n",
       "0  [[nan, nan, 0.114067055394, -0.0156950583547],...        1    0.711084   \n",
       "1  [[nan, nan, 0.116982507289, 0.00534299858884],...        1    0.690974   \n",
       "2  [[nan, nan, 0.0846609012289, -0.00809880542789...        1   -1.030377   \n",
       "3  [[nan, nan, 0.136779971504, 0.0148446751737], ...        1   -0.392699   \n",
       "4  [[nan, nan, 0.259839650146, 0.0601087341244], ...        1    1.477349   \n",
       "\n",
       "   perimeter  solidity               weighted_centroid  \\\n",
       "0  11.828427  0.777778  (3.28366762178, 4.80515759312)   \n",
       "1  12.449747  0.875000  (2.95114942529, 4.04022988506)   \n",
       "2  10.828427  0.928571            (2.696875, 3.378125)   \n",
       "3  16.621320  0.607143  (2.33756345178, 3.10152284264)   \n",
       "4  12.035534  0.875000  (3.92896174863, 5.20218579235)   \n",
       "\n",
       "                                    weighted_moments  \\\n",
       "0  [[349.0, 797.0, 2329.0, 7343.0], [979.0, 1929....   \n",
       "1  [[348.0, 679.0, 1875.0, 5887.0], [710.0, 869.0...   \n",
       "2  [[320.0, 543.0, 1265.0, 3225.0], [441.0, 770.0...   \n",
       "3  [[394.0, 921.0, 3101.0, 12075.0], [1222.0, 302...   \n",
       "4  [[366.0, 1072.0, 4362.0, 21238.0], [440.0, 119...   \n",
       "\n",
       "                            weighted_moments_central  \\\n",
       "0  [[349.0, -4.26325641456e-14, 508.916905444, -3...   \n",
       "1  [[348.0, 7.1054273576e-14, 550.16954023, 81.66...   \n",
       "2  [[320.0, 3.90798504668e-14, 343.596875, -87.62...   \n",
       "3  [[394.0, 1.42108547152e-14, 948.104060914, 393...   \n",
       "4  [[366.0, -1.13686837722e-13, 1222.15300546, 13...   \n",
       "\n",
       "                                 weighted_moments_hu  \\\n",
       "0  [0.00932395975219, 2.62998086419e-05, 2.236446...   \n",
       "1  [0.0108634423457, 7.58663334474e-05, 1.7997317...   \n",
       "2  [0.00625823974609, 3.84148303419e-07, 5.533269...   \n",
       "3  [0.0141335975367, 8.17252881924e-06, 2.0766055...   \n",
       "4  [0.0104152949986, 6.35103259126e-05, 4.2283447...   \n",
       "\n",
       "                         weighted_moments_normalized  \n",
       "0  [[nan, nan, 0.00417826541198, -0.0001318678002...  \n",
       "1  [[nan, nan, 0.00454295101921, 3.61500082009e-0...  \n",
       "2  [[nan, nan, 0.00335543823242, -4.78378626603e-...  \n",
       "3  [[nan, nan, 0.00610750122983, 0.00012777171224...  \n",
       "4  [[nan, nan, 0.00912354060635, 0.00050828236397...  \n",
       "\n",
       "[5 rows x 33 columns]"
      ]
     },
     "execution_count": 59,
     "metadata": {},
     "output_type": "execute_result"
    }
   ],
   "source": [
    "df"
   ]
  },
  {
   "cell_type": "markdown",
   "metadata": {},
   "source": [
    "### Look at blobs\n",
    "Plot a grid of the blobs found in `image_file`"
   ]
  },
  {
   "cell_type": "code",
   "execution_count": 60,
   "metadata": {
    "scrolled": false
   },
   "outputs": [
    {
     "data": {
      "image/png": "[encoded data removed]",
      "text/plain": [
       "<matplotlib.figure.Figure at 0x7f4a621d2790>"
      ]
     },
     "metadata": {},
     "output_type": "display_data"
    }
   ],
   "source": [
    "# Display the image and plot all contours found\n",
    "fig, axarr = plt.subplots(2, 2, figsize=(20, 8))\n",
    "for idx, ax in enumerate(axarr.flatten()):\n",
    "    io.imshow(df['image'][idx], ax=ax)\n",
    "    ax.plot(df['centroid'][idx][0], df['centroid'][idx][1])\n",
    "    ax.plot(df['coords'][idx][:, 0], df['coords'][idx][:, 1], ls='None')\n",
    "plt.tight_layout()\n",
    "plt.show()"
   ]
  },
  {
   "cell_type": "code",
   "execution_count": null,
   "metadata": {
    "collapsed": true
   },
   "outputs": [],
   "source": []
  }
 ],
 "metadata": {
  "kernelspec": {
   "display_name": "Python 2",
   "language": "python",
   "name": "python2"
  },
  "language_info": {
   "codemirror_mode": {
    "name": "ipython",
    "version": 2
   },
   "file_extension": ".py",
   "mimetype": "text/x-python",
   "name": "python",
   "nbconvert_exporter": "python",
   "pygments_lexer": "ipython2",
   "version": "2.7.13"
  }
 },
 "nbformat": 4,
 "nbformat_minor": 2
}
